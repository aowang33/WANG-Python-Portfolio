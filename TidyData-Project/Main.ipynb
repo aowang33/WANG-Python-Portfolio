{
 "cells": [
  {
   "cell_type": "code",
   "execution_count": 3,
   "id": "0747c43f-32cb-4a99-b39a-263452fe894e",
   "metadata": {},
   "outputs": [],
   "source": [
    "import pandas as pd\n",
    "import matplotlib.pyplot as plt\n",
    "import seaborn as sns"
   ]
  },
  {
   "cell_type": "code",
   "execution_count": 5,
   "id": "7d2de485-c1cf-49d8-85fa-2ead9257154e",
   "metadata": {},
   "outputs": [],
   "source": [
    "data = pd.read_csv(\"olympics_08_medalists.csv\")"
   ]
  },
  {
   "cell_type": "code",
   "execution_count": 7,
   "id": "68139389-34fc-4864-a858-56bb3e041305",
   "metadata": {
    "collapsed": true,
    "jupyter": {
     "outputs_hidden": true
    },
    "scrolled": true
   },
   "outputs": [
    {
     "data": {
      "text/plain": [
       "<bound method NDFrame.head of           medalist_name male_archery female_archery male_athletics  \\\n",
       "0       Aaron Armstrong          NaN            NaN           gold   \n",
       "1         Aaron Peirsol          NaN            NaN            NaN   \n",
       "2      Abdullo Tangriev          NaN            NaN            NaN   \n",
       "3     Abeer Abdelrahman          NaN            NaN            NaN   \n",
       "4               Abhinav          NaN            NaN            NaN   \n",
       "...                 ...          ...            ...            ...   \n",
       "1870        Éver Banega          NaN            NaN            NaN   \n",
       "1871  Ólafur Stefánsson          NaN            NaN            NaN   \n",
       "1872      Óscar Brayson          NaN            NaN            NaN   \n",
       "1873   Łukasz Pawłowski          NaN            NaN            NaN   \n",
       "1874        Živko Gocić          NaN            NaN            NaN   \n",
       "\n",
       "     female_athletics male_badminton female_badminton male_baseball  \\\n",
       "0                 NaN            NaN              NaN           NaN   \n",
       "1                 NaN            NaN              NaN           NaN   \n",
       "2                 NaN            NaN              NaN           NaN   \n",
       "3                 NaN            NaN              NaN           NaN   \n",
       "4                 NaN            NaN              NaN           NaN   \n",
       "...               ...            ...              ...           ...   \n",
       "1870              NaN            NaN              NaN           NaN   \n",
       "1871              NaN            NaN              NaN           NaN   \n",
       "1872              NaN            NaN              NaN           NaN   \n",
       "1873              NaN            NaN              NaN           NaN   \n",
       "1874              NaN            NaN              NaN           NaN   \n",
       "\n",
       "     male_basketball female_basketball  ... female_beach volleyball  \\\n",
       "0                NaN               NaN  ...                     NaN   \n",
       "1                NaN               NaN  ...                     NaN   \n",
       "2                NaN               NaN  ...                     NaN   \n",
       "3                NaN               NaN  ...                     NaN   \n",
       "4                NaN               NaN  ...                     NaN   \n",
       "...              ...               ...  ...                     ...   \n",
       "1870             NaN               NaN  ...                     NaN   \n",
       "1871             NaN               NaN  ...                     NaN   \n",
       "1872             NaN               NaN  ...                     NaN   \n",
       "1873             NaN               NaN  ...                     NaN   \n",
       "1874             NaN               NaN  ...                     NaN   \n",
       "\n",
       "     male_volleyball female_volleyball male_water polo female_water polo  \\\n",
       "0                NaN               NaN             NaN               NaN   \n",
       "1                NaN               NaN             NaN               NaN   \n",
       "2                NaN               NaN             NaN               NaN   \n",
       "3                NaN               NaN             NaN               NaN   \n",
       "4                NaN               NaN             NaN               NaN   \n",
       "...              ...               ...             ...               ...   \n",
       "1870             NaN               NaN             NaN               NaN   \n",
       "1871             NaN               NaN             NaN               NaN   \n",
       "1872             NaN               NaN             NaN               NaN   \n",
       "1873             NaN               NaN             NaN               NaN   \n",
       "1874             NaN               NaN          bronze               NaN   \n",
       "\n",
       "     male_weightlifting female_weightlifting male_freestyle wrestling  \\\n",
       "0                   NaN                  NaN                      NaN   \n",
       "1                   NaN                  NaN                      NaN   \n",
       "2                   NaN                  NaN                      NaN   \n",
       "3                   NaN               bronze                      NaN   \n",
       "4                   NaN                  NaN                      NaN   \n",
       "...                 ...                  ...                      ...   \n",
       "1870                NaN                  NaN                      NaN   \n",
       "1871                NaN                  NaN                      NaN   \n",
       "1872                NaN                  NaN                      NaN   \n",
       "1873                NaN                  NaN                      NaN   \n",
       "1874                NaN                  NaN                      NaN   \n",
       "\n",
       "     female_freestyle wrestling male_greco-roman wrestling  \n",
       "0                           NaN                        NaN  \n",
       "1                           NaN                        NaN  \n",
       "2                           NaN                        NaN  \n",
       "3                           NaN                        NaN  \n",
       "4                           NaN                        NaN  \n",
       "...                         ...                        ...  \n",
       "1870                        NaN                        NaN  \n",
       "1871                        NaN                        NaN  \n",
       "1872                        NaN                        NaN  \n",
       "1873                        NaN                        NaN  \n",
       "1874                        NaN                        NaN  \n",
       "\n",
       "[1875 rows x 71 columns]>"
      ]
     },
     "execution_count": 7,
     "metadata": {},
     "output_type": "execute_result"
    }
   ],
   "source": [
    "data.head"
   ]
  },
  {
   "cell_type": "markdown",
   "id": "9753566f-4f2a-42cd-9b0d-2c09946ab9cb",
   "metadata": {},
   "source": [
    "## Data Cleaning and Tidying"
   ]
  },
  {
   "cell_type": "markdown",
   "id": "0957945f-ea80-49f3-9545-c3be0a74904b",
   "metadata": {},
   "source": [
    "### Data Transformation: Melt Operation"
   ]
  },
  {
   "cell_type": "code",
   "execution_count": 88,
   "id": "4f43db55-a5bb-432f-88e7-1d42317eee4e",
   "metadata": {},
   "outputs": [
    {
     "name": "stdout",
     "output_type": "stream",
     "text": [
      "            medalist_name                      sports award\n",
      "0         Aaron Armstrong                male_archery   NaN\n",
      "1           Aaron Peirsol                male_archery   NaN\n",
      "2        Abdullo Tangriev                male_archery   NaN\n",
      "3       Abeer Abdelrahman                male_archery   NaN\n",
      "4                 Abhinav                male_archery   NaN\n",
      "...                   ...                         ...   ...\n",
      "131245        Éver Banega  male_greco-roman wrestling   NaN\n",
      "131246  Ólafur Stefánsson  male_greco-roman wrestling   NaN\n",
      "131247      Óscar Brayson  male_greco-roman wrestling   NaN\n",
      "131248   Łukasz Pawłowski  male_greco-roman wrestling   NaN\n",
      "131249        Živko Gocić  male_greco-roman wrestling   NaN\n",
      "\n",
      "[131250 rows x 3 columns]\n"
     ]
    }
   ],
   "source": [
    "# Using melt to reshape the data\n",
    "tidy_data = data.melt(id_vars = \"medalist_name\",\n",
    "                      var_name = \"sports\",\n",
    "                      value_name = \"award\")      \n",
    "print(tidy_data)"
   ]
  },
  {
   "cell_type": "code",
   "execution_count": 15,
   "id": "57d2b00b-7a9a-42f5-8bbe-9162f72fa015",
   "metadata": {},
   "outputs": [
    {
     "name": "stdout",
     "output_type": "stream",
     "text": [
      "              medalist_name                      sports   award\n",
      "177            Bair Badënov                male_archery  bronze\n",
      "676           Ilario Di Buò                male_archery  silver\n",
      "682            Im Dong-hyun                male_archery    gold\n",
      "760               Jiang Lin                male_archery  bronze\n",
      "920          Lee Chang-hwan                male_archery    gold\n",
      "...                     ...                         ...     ...\n",
      "130932        Steeve Guénot  male_greco-roman wrestling    gold\n",
      "131159  Yannick Szczepaniak  male_greco-roman wrestling  bronze\n",
      "131162       Yavor Yanakiev  male_greco-roman wrestling  bronze\n",
      "131200      Yury Patrikeyev  male_greco-roman wrestling  bronze\n",
      "131234         Zoltán Fodor  male_greco-roman wrestling  silver\n",
      "\n",
      "[1875 rows x 3 columns]\n"
     ]
    }
   ],
   "source": [
    "# Drop rows with missing values\n",
    "tidy_data = tidy_data.dropna()\n",
    "print(tidy_data)"
   ]
  },
  {
   "cell_type": "markdown",
   "id": "55483bc0-c970-482a-9e88-4ce96b185fad",
   "metadata": {},
   "source": [
    "### Data Splitting: Separating Gender and Sport Events"
   ]
  },
  {
   "cell_type": "code",
   "execution_count": 27,
   "id": "b748038e-c699-490e-8463-830332c02f25",
   "metadata": {},
   "outputs": [
    {
     "name": "stdout",
     "output_type": "stream",
     "text": [
      "       gender                  event\n",
      "177      male                archery\n",
      "676      male                archery\n",
      "682      male                archery\n",
      "760      male                archery\n",
      "920      male                archery\n",
      "...       ...                    ...\n",
      "130932   male  greco-roman wrestling\n",
      "131159   male  greco-roman wrestling\n",
      "131162   male  greco-roman wrestling\n",
      "131200   male  greco-roman wrestling\n",
      "131234   male  greco-roman wrestling\n",
      "\n",
      "[1875 rows x 2 columns]\n"
     ]
    }
   ],
   "source": [
    "# Split the 'sports' column into two new columns: 'gender' and 'event'\n",
    "tidy_data[[\"gender\", \"event\"]]= tidy_data[\"sports\"].str.split(\"_\", expand = True)\n",
    "print(tidy_data[[\"gender\", \"event\"]])"
   ]
  },
  {
   "cell_type": "code",
   "execution_count": 39,
   "id": "5d39ab73-76b2-4f4e-ac10-438aaf362a17",
   "metadata": {},
   "outputs": [
    {
     "name": "stdout",
     "output_type": "stream",
     "text": [
      "              medalist_name   award gender                  event\n",
      "177            Bair Badënov  bronze   male                archery\n",
      "676           Ilario Di Buò  silver   male                archery\n",
      "682            Im Dong-hyun    gold   male                archery\n",
      "760               Jiang Lin  bronze   male                archery\n",
      "920          Lee Chang-hwan    gold   male                archery\n",
      "...                     ...     ...    ...                    ...\n",
      "130932        Steeve Guénot    gold   male  greco-roman wrestling\n",
      "131159  Yannick Szczepaniak  bronze   male  greco-roman wrestling\n",
      "131162       Yavor Yanakiev  bronze   male  greco-roman wrestling\n",
      "131200      Yury Patrikeyev  bronze   male  greco-roman wrestling\n",
      "131234         Zoltán Fodor  silver   male  greco-roman wrestling\n",
      "\n",
      "[1875 rows x 4 columns]\n"
     ]
    }
   ],
   "source": [
    "print(tidy_data)"
   ]
  },
  {
   "cell_type": "markdown",
   "id": "ca7f085e-c39f-472c-a04a-5294df156d8b",
   "metadata": {},
   "source": [
    "## Visualizations"
   ]
  },
  {
   "cell_type": "markdown",
   "id": "f2fbcd09-bd47-4cfa-b68c-8479b15bac40",
   "metadata": {},
   "source": [
    "### Counting Medals Won by Gender"
   ]
  },
  {
   "cell_type": "code",
   "execution_count": 41,
   "id": "d83dd9ec-e4b1-402f-aa31-7e2eaf1ce71a",
   "metadata": {},
   "outputs": [],
   "source": [
    "medal_counts = tidy_data[\"gender\"].value_counts()"
   ]
  },
  {
   "cell_type": "code",
   "execution_count": 53,
   "id": "c92f3ca5-df48-4bc0-aa0a-a389c1bfcd82",
   "metadata": {},
   "outputs": [
    {
     "data": {
      "image/png": "[encoded data removed]",
      "text/plain": [
       "<Figure size 800x600 with 1 Axes>"
      ]
     },
     "metadata": {},
     "output_type": "display_data"
    }
   ],
   "source": [
    "plt.figure(figsize=(8,6))\n",
    "sns.barplot(x=medal_counts.index, y=medal_counts.values)\n",
    "plt.xlabel(\"Gender\")\n",
    "plt.ylabel(\"Medal Count\")\n",
    "plt.title(\"Number of Medals Won by Gender\")\n",
    "plt.show()"
   ]
  },
  {
   "cell_type": "markdown",
   "id": "d0c4cd99-d579-4df3-8c32-8cf7c8f26b60",
   "metadata": {},
   "source": [
    "### Medal Distribution Across Top 10 Sports"
   ]
  },
  {
   "cell_type": "code",
   "execution_count": 60,
   "id": "c3ec44b5-7e17-46a7-8178-dbf72ab96e36",
   "metadata": {},
   "outputs": [],
   "source": [
    "event_counts = tidy_data[\"event\"].value_counts().head(10)"
   ]
  },
  {
   "cell_type": "code",
   "execution_count": 62,
   "id": "045b7566-a762-43c3-b77e-4c1b15612026",
   "metadata": {},
   "outputs": [
    {
     "data": {
      "image/png": "[encoded data removed]",
      "text/plain": [
       "<Figure size 1000x600 with 1 Axes>"
      ]
     },
     "metadata": {},
     "output_type": "display_data"
    }
   ],
   "source": [
    "plt.figure(figsize=(10,6))\n",
    "sns.barplot(x=event_counts.values, y=event_counts.index) \n",
    "plt.xlabel(\"Medal Count\")\n",
    "plt.ylabel(\"Event\")\n",
    "plt.title(\"Top 10 Events with Most Medals\")\n",
    "plt.show()"
   ]
  },
  {
   "cell_type": "markdown",
   "id": "d3d11920-d9ac-435d-9297-9d002a10c337",
   "metadata": {},
   "source": [
    "## Pivot Table"
   ]
  },
  {
   "cell_type": "code",
   "execution_count": 74,
   "id": "9dcc60d0-3ad4-4515-ba04-357d630f38cb",
   "metadata": {},
   "outputs": [
    {
     "name": "stdout",
     "output_type": "stream",
     "text": [
      "gender                female  male\n",
      "event                             \n",
      "archery                    9    11\n",
      "artistic gymnastics       20    29\n",
      "association football      54    55\n",
      "athletics                 81    85\n",
      "badminton                 10    12\n",
      "baseball                   0    72\n",
      "basketball                36    35\n",
      "beach volleyball           6     6\n",
      "bmx                        3     3\n",
      "boxing                     0    44\n"
     ]
    }
   ],
   "source": [
    "pivot_gender = pd.pivot_table(tidy_data, \n",
    "                             index=\"event\",  \n",
    "                             columns=\"gender\",  \n",
    "                             values=\"medalist_name\", \n",
    "                             aggfunc=\"count\",  \n",
    "                             fill_value=0)  \n",
    "\n",
    "print(pivot_gender.head(10))"
   ]
  },
  {
   "cell_type": "code",
   "execution_count": 76,
   "id": "456865b8-7c40-4625-9dd8-097f94ccd462",
   "metadata": {},
   "outputs": [
    {
     "name": "stdout",
     "output_type": "stream",
     "text": [
      "        medalist_name\n",
      "gender               \n",
      "female            843\n",
      "male             1032\n"
     ]
    }
   ],
   "source": [
    "pivot_gold_medals = pd.pivot_table(\n",
    "    tidy_data,                \n",
    "    index=\"gender\",           \n",
    "    values=\"medalist_name\",   \n",
    "    aggfunc=\"count\",          \n",
    "    fill_value=0)             \n",
    "\n",
    "print(pivot_gold_medals)\n"
   ]
  }
 ],
 "metadata": {
  "kernelspec": {
   "display_name": "Python [conda env:base] *",
   "language": "python",
   "name": "conda-base-py"
  },
  "language_info": {
   "codemirror_mode": {
    "name": "ipython",
    "version": 3
   },
   "file_extension": ".py",
   "mimetype": "text/x-python",
   "name": "python",
   "nbconvert_exporter": "python",
   "pygments_lexer": "ipython3",
   "version": "3.12.7"
  }
 },
 "nbformat": 4,
 "nbformat_minor": 5
}
